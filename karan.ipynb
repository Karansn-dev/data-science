{
  "nbformat": 4,
  "nbformat_minor": 0,
  "metadata": {
    "colab": {
      "provenance": [],
      "toc_visible": true,
      "authorship_tag": "ABX9TyM2TXf3hQoGz8Z6CBND5pyL",
      "include_colab_link": true
    },
    "kernelspec": {
      "name": "python3",
      "display_name": "Python 3"
    },
    "language_info": {
      "name": "python"
    }
  },
  "cells": [
    {
      "cell_type": "markdown",
      "metadata": {
        "id": "view-in-github",
        "colab_type": "text"
      },
      "source": [
        "<a href=\"https://colab.research.google.com/github/Karansn-dev/data-science/blob/main/karan.ipynb\" target=\"_parent\"><img src=\"https://colab.research.google.com/assets/colab-badge.svg\" alt=\"Open In Colab\"/></a>"
      ]
    },
    {
      "cell_type": "markdown",
      "source": [
        "# **Function** **in** **python**"
      ],
      "metadata": {
        "id": "Eh7PDi3w1CcZ"
      }
    },
    {
      "cell_type": "code",
      "source": [
        "def add(a,b):\n",
        "  return a+b\n",
        "a = int(input(\"Enter your first number= \"))\n",
        "b = int(input(\"Enter your second number= \"))\n",
        "add(a,b)"
      ],
      "metadata": {
        "colab": {
          "base_uri": "https://localhost:8080/"
        },
        "id": "2Znx4lUm1Skh",
        "outputId": "b7a10d9f-46e6-435c-bbd5-26bf6ba67f65"
      },
      "execution_count": null,
      "outputs": [
        {
          "name": "stdout",
          "output_type": "stream",
          "text": [
            "Enter your first number= 45\n",
            "Enter your second number= 45\n"
          ]
        },
        {
          "output_type": "execute_result",
          "data": {
            "text/plain": [
              "90"
            ]
          },
          "metadata": {},
          "execution_count": 3
        }
      ]
    },
    {
      "cell_type": "markdown",
      "source": [
        "# **lambda** **function**"
      ],
      "metadata": {
        "id": "WarIX_xh2SUn"
      }
    },
    {
      "cell_type": "code",
      "source": [
        "add = lambda a,b:a+b\n",
        "print(add(2,3))"
      ],
      "metadata": {
        "colab": {
          "base_uri": "https://localhost:8080/"
        },
        "id": "1x6lxGZU2h6e",
        "outputId": "2478ebf4-a89c-4780-bdad-39f6afed5038"
      },
      "execution_count": null,
      "outputs": [
        {
          "output_type": "stream",
          "name": "stdout",
          "text": [
            "5\n"
          ]
        }
      ]
    },
    {
      "cell_type": "markdown",
      "source": [
        "# Map function\n"
      ],
      "metadata": {
        "id": "zObm-L6b3SR1"
      }
    },
    {
      "cell_type": "code",
      "source": [
        "def celsius_to_fahrenheit(C):\n",
        "    \"\"\"\n",
        "    Function to convert temperature from Celsius to Fahrenheit.\n",
        "\n",
        "    Parameters:\n",
        "    C (float): The temperature in Celsius.\n",
        "\n",
        "    Returns:\n",
        "    float: The temperature in Fahrenheit.\n",
        "    \"\"\"\n",
        "    # Your code here\n",
        "    f = (9/5*C) + 32\n",
        "    return f\n",
        "C = float(input(\"enter the temperature in Celsius = \"))\n",
        "print(celsius_to_fahrenheit(C))"
      ],
      "metadata": {
        "colab": {
          "base_uri": "https://localhost:8080/"
        },
        "id": "dTrmledT3Y_s",
        "outputId": "47e286d1-adad-4aa5-c258-0f8762fa9912"
      },
      "execution_count": null,
      "outputs": [
        {
          "output_type": "stream",
          "name": "stdout",
          "text": [
            "enter the temperature in Celsius = 51.32\n",
            "124.376\n"
          ]
        }
      ]
    },
    {
      "cell_type": "code",
      "metadata": {
        "id": "f57811e7"
      },
      "source": [
        "def celsius_to_fahrenheit(C):\n",
        "    \"\"\"\n",
        "    Function to convert temperature from Celsius to Fahrenheit.\n",
        "\n",
        "    Parameters:\n",
        "    C (float): The temperature in Celsius.\n",
        "\n",
        "    Returns:\n",
        "    float: The temperature in Fahrenheit.\n",
        "    \"\"\"\n",
        "    # Your code here\n",
        "    f = (9/5*C) + 32\n",
        "    return f\n",
        "C = float(input(\"enter the temperature in Celsius = \"))\n",
        "print(celsius_to_fahrenheit(C))"
      ],
      "execution_count": null,
      "outputs": []
    },
    {
      "cell_type": "markdown",
      "source": [
        "##**Exception Handling**\n"
      ],
      "metadata": {
        "id": "nE5RBmI2rFTN"
      }
    },
    {
      "cell_type": "code",
      "source": [],
      "metadata": {
        "id": "NIvc7CG_reqg"
      },
      "execution_count": null,
      "outputs": []
    }
  ]
}